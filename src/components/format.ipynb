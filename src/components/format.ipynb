{
 "cells": [
  {
   "cell_type": "code",
   "execution_count": 24,
   "metadata": {},
   "outputs": [],
   "source": [
    "with open('svg.txt', 'r') as f:\n",
    "    var = [i.replace('\\n', '') for i in f.readlines()]"
   ]
  },
  {
   "cell_type": "code",
   "execution_count": 8,
   "metadata": {},
   "outputs": [
    {
     "data": {
      "text/plain": [
       "'<rect id=\"Rectangle 4\" x=\"0.15\" y=\"0.15\" width=\"9.7\" height=\"9.7\" fill=\"white\" stroke=\"#979797\" stroke-width=\"0.3\"/>\\n'"
      ]
     },
     "execution_count": 8,
     "metadata": {},
     "output_type": "execute_result"
    }
   ],
   "source": [
    "var[0]"
   ]
  },
  {
   "cell_type": "code",
   "execution_count": 11,
   "metadata": {},
   "outputs": [
    {
     "data": {
      "text/plain": [
       "21"
      ]
     },
     "execution_count": 11,
     "metadata": {},
     "output_type": "execute_result"
    }
   ],
   "source": [
    "def find_nth(string, substring, n):\n",
    "    if (n == 1):\n",
    "       return string.find(substring)\n",
    "    else:\n",
    "       return string.find(substring, find_nth(string, substring, n - 1) + 1)\n",
    "   \n",
    "find_nth(var[0],'\"', 2)  "
   ]
  },
  {
   "cell_type": "code",
   "execution_count": 36,
   "metadata": {},
   "outputs": [],
   "source": [
    "tmp = []\n",
    "\n",
    "for i,n in enumerate(var):\n",
    "    ix = find_nth(n, '\"',2) + 1\n",
    "    result = n[:ix] + f' onClick={{() => this.props.onFill({i})}} fill={{this.props.fillColors[{i}]}} fill-rule=\"evenodd\"' + n[ix:]\n",
    "    result = result.replace('fill=\"white\" ','')\n",
    "    tmp.append(result)\n"
   ]
  },
  {
   "cell_type": "code",
   "execution_count": 37,
   "metadata": {},
   "outputs": [
    {
     "data": {
      "text/plain": [
       "'<rect id=\"Rectangle 4\" onClick={() => this.props.onFill(0)} fill={this.props.fillColors[0]} fill-rule=\"evenodd\" x=\"0.15\" y=\"0.15\" width=\"9.7\" height=\"9.7\" stroke=\"#979797\" stroke-width=\"0.3\"/>'"
      ]
     },
     "execution_count": 37,
     "metadata": {},
     "output_type": "execute_result"
    }
   ],
   "source": [
    "tmp[0]"
   ]
  },
  {
   "cell_type": "code",
   "execution_count": 38,
   "metadata": {},
   "outputs": [],
   "source": [
    "with open('text.txt', 'w') as f:\n",
    "    for item in tmp:\n",
    "        f.write(item+\"\\n\")"
   ]
  },
  {
   "cell_type": "code",
   "execution_count": null,
   "metadata": {},
   "outputs": [],
   "source": [
    "# const data = {\n",
    "#     // test data format\n",
    "#     content: [\n",
    "#       {\n",
    "#         theme: \"ootd\",\n",
    "#         children: [\n",
    "#           { _name: \"item 1\", color: \"123de321\" },\n",
    "#           { _name: \"item 2\", color: \"124ads321\" },\n",
    "#           { _name: \"item 3\", color: \"125 321\" },\n",
    "#         ],\n",
    "#       },\n",
    "#       {\n",
    "#         theme: \"test abc\",\n",
    "#         children: [\n",
    "#           { _name: \"test 1\", color: \"qwerty\" },\n",
    "#           { _name: \"test 2\", color: \"pojgnfd\" },\n",
    "#           { _name: \"test 3\", color: \"viodfn\" },\n",
    "#         ],\n",
    "#       },\n",
    "#     ],\n",
    "#   };"
   ]
  }
 ],
 "metadata": {
  "interpreter": {
   "hash": "df3282b00461d0da48b5084f73affef31b9a54f8b85365a0cd8e11fce37c74e1"
  },
  "kernelspec": {
   "display_name": "Python 3.9.7 ('base')",
   "language": "python",
   "name": "python3"
  },
  "language_info": {
   "codemirror_mode": {
    "name": "ipython",
    "version": 3
   },
   "file_extension": ".py",
   "mimetype": "text/x-python",
   "name": "python",
   "nbconvert_exporter": "python",
   "pygments_lexer": "ipython3",
   "version": "3.9.7"
  },
  "orig_nbformat": 4
 },
 "nbformat": 4,
 "nbformat_minor": 2
}
