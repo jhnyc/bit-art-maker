{
 "cells": [
  {
   "cell_type": "code",
   "execution_count": 69,
   "metadata": {},
   "outputs": [],
   "source": [
    "import numpy as np\n",
    "from PIL import Image"
   ]
  },
  {
   "cell_type": "code",
   "execution_count": 68,
   "metadata": {},
   "outputs": [],
   "source": [
    "path = 'base.png'\n",
    "\n",
    "def get_hex_array(path):\n",
    "    img = Image.open(path)\n",
    "    img = img.convert(\"RGB\")\n",
    "    pixels = img.load() \n",
    "    width, height = img.size\n",
    "    colors = []\n",
    "    _ = height/64\n",
    "    for h in range(0, 64):\n",
    "        y = (_/2)+h*_\n",
    "        for w in range(0, 64):\n",
    "            x = (_/2)+w*_\n",
    "            r, g, b = pixels[x, y]\n",
    "            colors.append(f\"#{r:02x}{g:02x}{b:02x}\")\n",
    "    return colors\n",
    "    \n"
   ]
  },
  {
   "cell_type": "code",
   "execution_count": 55,
   "metadata": {},
   "outputs": [],
   "source": [
    "def package_json(theme, names, array):\n",
    "    output = dict()\n",
    "    output['content'] = []\n",
    "    \n",
    "    tmp = dict()\n",
    "    tmp['theme'] = theme\n",
    "    tmp['children'] = []\n",
    "    if len(names) != len(array):\n",
    "        raise ValueError(\"number of names not equal array length\")\n",
    "    else:\n",
    "        for ix, name in enumerate(names):\n",
    "            tmp_ = dict()\n",
    "            tmp_[\"_name\"] = name\n",
    "            tmp_[\"color\"] = array[ix]\n",
    "            tmp['children'].append(tmp_)\n",
    "        output['content'].append(tmp)\n",
    "    return output\n",
    "\n"
   ]
  },
  {
   "cell_type": "code",
   "execution_count": 82,
   "metadata": {},
   "outputs": [],
   "source": [
    "path = \"/Users/Johnny/Desktop/all nft\"\n",
    "output = {'content': []}\n",
    "for folder in os.listdir(path):\n",
    "    if not folder == '.DS_Store':\n",
    "        newPath = \"/Users/Johnny/Desktop/all nft/\" + folder\n",
    "        tmp = {}\n",
    "        tmp['theme'] = folder\n",
    "        tmp['children'] = []\n",
    "        for photo in [i for i in os.listdir(newPath) if not i =='.DS_Store']:\n",
    "            try:\n",
    "                color = get_hex_array(newPath + '/' + photo)\n",
    "                tmp['children'].append({'_name': photo, 'color':color})\n",
    "            except:\n",
    "                print(folder, photo)\n",
    "        output['content'].append(tmp)\n"
   ]
  },
  {
   "cell_type": "code",
   "execution_count": 83,
   "metadata": {},
   "outputs": [
    {
     "name": "stdout",
     "output_type": "stream",
     "text": [
      "league of legends\n",
      "pokemon\n",
      "default\n",
      "spongebob\n",
      "bored ape\n",
      "monkey kingdom\n",
      "cryptopunk\n"
     ]
    }
   ],
   "source": [
    "path = \"/Users/Johnny/Desktop/all nft\"\n",
    "for folder in os.listdir(path):\n",
    "    \n",
    "    if not folder == '.DS_Store':\n",
    "        print(folder)\n"
   ]
  },
  {
   "cell_type": "code",
   "execution_count": 84,
   "metadata": {},
   "outputs": [],
   "source": [
    "import json\n",
    "\n",
    "with open('/Users/Johnny/Downloads/color-test-master/src/components/test_18mar.json', 'w') as f:\n",
    "    json.dump(output, f)"
   ]
  },
  {
   "cell_type": "code",
   "execution_count": null,
   "metadata": {},
   "outputs": [],
   "source": []
  }
 ],
 "metadata": {
  "interpreter": {
   "hash": "df3282b00461d0da48b5084f73affef31b9a54f8b85365a0cd8e11fce37c74e1"
  },
  "kernelspec": {
   "display_name": "Python 3.9.7 ('base')",
   "language": "python",
   "name": "python3"
  },
  "language_info": {
   "codemirror_mode": {
    "name": "ipython",
    "version": 3
   },
   "file_extension": ".py",
   "mimetype": "text/x-python",
   "name": "python",
   "nbconvert_exporter": "python",
   "pygments_lexer": "ipython3",
   "version": "3.9.7"
  },
  "orig_nbformat": 4
 },
 "nbformat": 4,
 "nbformat_minor": 2
}
